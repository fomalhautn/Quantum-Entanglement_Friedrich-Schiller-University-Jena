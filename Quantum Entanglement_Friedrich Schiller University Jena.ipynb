{
 "cells": [
  {
   "cell_type": "markdown",
   "id": "63f80112-3b04-44f0-8023-098b206f0682",
   "metadata": {},
   "source": [
    "<table>\n",
    "    <tr>\n",
    "      <td>\n",
    "      <img src='https://www.ideal-ist.eu/sites/default/files/2018-10/logo_quantum_flagship.jpg' width=450>\n",
    "      </td>\n",
    "      <td>\n",
    "      <img src='https://upload.wikimedia.org/wikipedia/commons/thumb/c/cd/Logo_UniJena.svg/1200px-Logo_UniJena.svg.png' width=450>\n",
    "      </td>\n",
    "      <td>\n",
    "      <img src='https://www.akc.ac.cy/images/2022/03/Funded-by-the-European-Union.png' width=450>\n",
    "      </td>\n",
    "     </tr>\n",
    "</table>\n",
    "\n",
    "<div style=\"text-align: center; margin: 50px\">\n",
    "\n",
    "<h1 style=\"text-align: center;\">Quantum Computing, Summer 2022</h1>\n",
    "<h2 style=\"text-align: center;\"><a href=\"https://qt.eu/\">European Union Quantum Flagship /</a> <a href=\"https://qtom.qtedu.eu/\">QTEdu Quantum Technology Open Master</a></h2>\n",
    "<h2 style=\"text-align: center;\"><a href=\"https://www.uni-jena.de/en\">Friedrich Schiller University Jena</a></h2>\n",
    "<h3><em>Quantum Entanglement</em></h3>\n",
    "<h3>Anastasiia Andriievska</h3>\n",
    "\n",
    "</div>"
   ]
  },
  {
   "cell_type": "code",
   "execution_count": 7,
   "id": "97a68a13-b023-46d4-9cc5-229a1bd5fa1d",
   "metadata": {},
   "outputs": [
   ],
   "source": [
    "import numpy as np\n",
    "from matplotlib import pyplot as plt\n",
    "\n",
    "# Importing standard Qiskit libraries\n",
    "from qiskit import QuantumCircuit, ClassicalRegister, Aer, IBMQ, transpile, QuantumRegister, execute\n",
    "from qiskit.providers.ibmq import least_busy\n",
    "from qiskit.tools import job_monitor\n",
    "from qiskit.visualization import plot_histogram, plot_bloch_multivector\n",
    "from qiskit.tools.jupyter import *\n",
    "from qiskit.visualization import *\n",
    "from ibm_quantum_widgets import *\n",
    "from qiskit.providers.aer import QasmSimulator\n",
    "\n",
    "# Loading your IBM Quantum account(s)\n",
    "provider = IBMQ.load_account()"
   ]
  },
  {
   "cell_type": "markdown",
   "id": "1353980c-65ec-472f-b55b-2174fa79571d",
   "metadata": {},
   "source": [
    "<h3>Entanglement</h3>\n",
    "(a) Implement a quantum circuit, creating a pair of entangled qubits in the $|\\phi^+\\rangle$ state "
   ]
  },
  {
   "cell_type": "code",
   "execution_count": 2,
   "id": "3dab7ccc-fa47-42c8-9992-c26eea1c15b6",
   "metadata": {},
   "outputs": [
    {
     "data": {
      "image/png": "[encoded data removed]",
      "text/plain": [
       "<Figure size 190.495x204.68 with 1 Axes>"
      ]
     },
     "execution_count": 2,
     "metadata": {},
     "output_type": "execute_result"
    }
   ],
   "source": [
    "# First, we define how many qubits we want to implement\n",
    "nqubit = 2\n",
    "QR = QuantumRegister(nqubit, 'q')  \n",
    "CR = ClassicalRegister(nqubit, 'c')\n",
    "\n",
    "# To create quantum circuit where the syntax is QuantumCircuit(quantum_register,classical_register)\n",
    "qc = QuantumCircuit(QR,CR)\n",
    "\n",
    "qc.h(0)  # To apply H gate at the 0th qubit\n",
    "qc.draw(initial_state=True)"
   ]
  },
  {
   "cell_type": "code",
   "execution_count": 8,
   "id": "16872226-4b17-43c6-834c-ac87cf502bce",
   "metadata": {},
   "outputs": [
    {
     "data": {
      "text/latex": [
       "$$\n",
       "\\text{Statevector = }\n",
       "\\begin{bmatrix}\n",
       "\\tfrac{1}{\\sqrt{2}} & \\tfrac{1}{\\sqrt{2}} & 0 & 0  \\\\\n",
       " \\end{bmatrix}\n",
       "$$"
      ],
      "text/plain": [
       "<IPython.core.display.Latex object>"
      ]
     },
     "execution_count": 8,
     "metadata": {},
     "output_type": "execute_result"
    }
   ],
   "source": [
    "# Let's see the result:\n",
    "svsim = Aer.get_backend('aer_simulator')\n",
    "qc.save_statevector()\n",
    "qobj = assemble(qc)\n",
    "final_state = svsim.run(qobj).result().get_statevector()\n",
    "\n",
    "# Print the statevector neatly:\n",
    "array_to_latex(final_state, prefix=\"\\\\text{Statevector = }\")"
   ]
  },
  {
   "cell_type": "markdown",
   "id": "47090467-e706-4ce3-9753-fdce6ce8883e",
   "metadata": {},
   "source": [
    "The result shows that our final states are now $|0\\rangle \\otimes|+> = \\frac{1}{\\sqrt2}|00> + \\frac{1}{\\sqrt2}|01> + 0 |10> + 0 |11>$.<br>We then need to have a gate to flip |01> to |11>"
   ]
  },
  {
   "cell_type": "code",
   "execution_count": 9,
   "id": "055fc7ea-643a-49c9-99fb-dc1235b3b8b0",
   "metadata": {},
   "outputs": [
    {
     "data": {
      "image/png": "[encoded data removed]",
      "text/plain": [
       "<Figure size 371.095x204.68 with 1 Axes>"
      ]
     },
     "execution_count": 9,
     "metadata": {},
     "output_type": "execute_result"
    }
   ],
   "source": [
    "qc2 = QuantumCircuit(QR,CR)\n",
    "\n",
    "# Apply CNOT\n",
    "qc2.h(0)  # To apply H gate at the 0th qubit\n",
    "qc2.cx(0,1)  # (target_qubit, control_qubit) swap when control_qubit = 1\n",
    "qc2.measure(0, 0)\n",
    "qc2.measure(1, 1)\n",
    "qc2.draw(initial_state=True)"
   ]
  },
  {
   "cell_type": "code",
   "execution_count": 10,
   "id": "aa664833-db2c-423b-8091-4e4f1da9790b",
   "metadata": {},
   "outputs": [
    {
     "name": "stdout",
     "output_type": "stream",
     "text": [
      "Job Status: job has successfully run\n",
      "{'00': 517, '11': 483}\n"
     ]
    },
    {
     "data": {
      "image/png": "[encoded data removed]",
      "text/plain": [
       "<Figure size 504x360 with 1 Axes>"
      ]
     },
     "execution_count": 10,
     "metadata": {},
     "output_type": "execute_result"
    }
   ],
   "source": [
    "simulator = Aer.get_backend('aer_simulator')\n",
    "job = execute(qc2, simulator, shots=1000)\n",
    "job_monitor(job)  # display the job's status\n",
    "result = job.result()\n",
    "counts = result.get_counts() \n",
    "print(counts)\n",
    "plot_histogram(counts)"
   ]
  },
  {
   "cell_type": "markdown",
   "id": "fca1d288-abab-4de4-be94-6c4c4ac956e6",
   "metadata": {},
   "source": [
    "Now we have a pair of entangled Qubits in the $|\\phi^+\\rangle$ state."
   ]
  },
  {
   "cell_type": "markdown",
   "id": "77a36498-25ce-4651-a742-6595f80894ac",
   "metadata": {},
   "source": [
    "(b) Implement a Measurement in the pair of photons in a arbitrary base of type\n",
    "$|\\psi_{A}\\rangle = \\cos\\phi |0\\rangle + \\sin\\phi |1\\rangle$ and $|\\psi_{B}\\rangle = \\sin\\phi |0\\rangle - \\cos\\phi |1\\rangle$. Hint: use a rotation around the L/R axis before the measurement."
   ]
  },
  {
   "cell_type": "code",
   "execution_count": 11,
   "id": "b1d20bd0-d0db-41c9-8ecc-e9b7e927dc50",
   "metadata": {},
   "outputs": [
    {
     "data": {
      "image/png": "[encoded data removed]",
      "text/plain": [
       "<Figure size 431.295x204.68 with 1 Axes>"
      ]
     },
     "execution_count": 11,
     "metadata": {},
     "output_type": "execute_result"
    }
   ],
   "source": [
    "qc_b = QuantumCircuit(QR,CR) \n",
    "\n",
    "# Apply H-gate to the first:\n",
    "qc_b.h(0)\n",
    "\n",
    "# Apply CNOT\n",
    "qc_b.cx(0,1)\n",
    "qc_b.ry(np.pi/6, QR)\n",
    "qc_b.measure(0, 0)\n",
    "qc_b.measure(1, 1)\n",
    "qc_b.draw(initial_state=True)"
   ]
  },
  {
   "cell_type": "markdown",
   "id": "ebcd84ef-bf81-4e84-8ad5-dc06e9c8122a",
   "metadata": {},
   "source": [
    "(c) Show that the results obtained for the measurement have 50/50 probabilities for each of the\n",
    "individual QuBits, independent of the selection of the measurement angle $\\phi$.<br><br>\n",
    "(d) Show that the results obtained for the measurement are perfectly correlated between the\n",
    "two QuBits, independent of the selection of the measurement angle $\\phi$."
   ]
  },
  {
   "cell_type": "code",
   "execution_count": 12,
   "id": "d209c887-f71e-4125-869f-892bc36995b9",
   "metadata": {},
   "outputs": [
    {
     "name": "stdout",
     "output_type": "stream",
     "text": [
      "Job Status: job has successfully run\n",
      "{'11': 480, '00': 520}\n"
     ]
    },
    {
     "data": {
      "image/png": "[encoded data removed]",
      "text/plain": [
       "<Figure size 504x360 with 1 Axes>"
      ]
     },
     "execution_count": 12,
     "metadata": {},
     "output_type": "execute_result"
    }
   ],
   "source": [
    "simulator = Aer.get_backend('aer_simulator')\n",
    "job = execute(qc_b, simulator, shots=1000)\n",
    "job_monitor(job)  # display the job's status\n",
    "result = job.result()\n",
    "counts = result.get_counts() \n",
    "print(counts)\n",
    "plot_histogram(counts)"
   ]
  },
  {
   "cell_type": "markdown",
   "id": "a626960a-ca42-41f9-9acd-ced39131b89c",
   "metadata": {},
   "source": [
    "This result indicates that we always have 50/50 prob regardless of the selection of measurement angle.<br> If try changing the angle in qc_b.ry, one would still get 50/50 prob.<br>\n",
    "In the meantime, we also always get |00> or |11> states, implying that these two qubits are perfectly correlated.<br>It is based on the fact that this bell state is maximally entangled."
   ]
  },
  {
   "cell_type": "markdown",
   "id": "41baf8a9-4f5b-4fed-8bf8-3cbadc9af835",
   "metadata": {},
   "source": [
    "(e) Repeat the latter experiment on a real Quantum computer. "
   ]
  },
  {
   "cell_type": "code",
   "execution_count": 14,
   "id": "3768a117-d784-4abb-bb12-b68746baea7a",
   "metadata": {},
   "outputs": [
    {
     "data": {
      "image/png": "[encoded data removed]",
      "text/plain": [
       "<Figure size 431.295x204.68 with 1 Axes>"
      ]
     },
     "execution_count": 14,
     "metadata": {},
     "output_type": "execute_result"
    }
   ],
   "source": [
    "qc_e = QuantumCircuit(2,2) \n",
    "\n",
    "# Apply H-gate to the first:\n",
    "qc_e.h(0)\n",
    "\n",
    "# Apply CNOT\n",
    "qc_e.cx(0,1)\n",
    "qc_e.ry(np.pi/6, QR)\n",
    "qc_e.measure(0, 0)\n",
    "qc_e.measure(1, 1)\n",
    "qc_e.draw(initial_state=True)"
   ]
  },
  {
   "cell_type": "markdown",
   "id": "d054ec99-a238-499d-a33a-474cb1af47fa",
   "metadata": {},
   "source": [
    "<h3>Submit to the quantum computer:</h3>"
   ]
  },
  {
   "cell_type": "code",
   "execution_count": 8,
   "id": "4c7dcc7c-376e-4fdf-a5b0-6368539be331",
   "metadata": {},
   "outputs": [
    {
     "name": "stdout",
     "output_type": "stream",
     "text": [
      "Running on current least busy device:  ibm_nairobi\n"
     ]
    }
   ],
   "source": [
    "provider = IBMQ.get_provider(\"ibm-q\")\n",
    "device = least_busy(provider.backends(filters=lambda x: x.configuration().n_qubits >= 3 and \n",
    "                                   not x.configuration().simulator and x.status().operational==True))\n",
    "print(\"Running on current least busy device: \", device)"
   ]
  },
  {
   "cell_type": "code",
   "execution_count": 16,
   "id": "42d33351-3b09-47e6-aa61-e309b0b35501",
   "metadata": {},
   "outputs": [
    {
     "name": "stdout",
     "output_type": "stream",
     "text": [
      "[<IBMQSimulator('ibmq_qasm_simulator') from IBMQ(hub='ibm-q', group='open', project='main')>, <IBMQBackend('ibmq_armonk') from IBMQ(hub='ibm-q', group='open', project='main')>, <IBMQBackend('ibmq_santiago') from IBMQ(hub='ibm-q', group='open', project='main')>, <IBMQBackend('ibmq_bogota') from IBMQ(hub='ibm-q', group='open', project='main')>, <IBMQBackend('ibmq_lima') from IBMQ(hub='ibm-q', group='open', project='main')>, <IBMQBackend('ibmq_belem') from IBMQ(hub='ibm-q', group='open', project='main')>, <IBMQBackend('ibmq_quito') from IBMQ(hub='ibm-q', group='open', project='main')>, <IBMQSimulator('simulator_statevector') from IBMQ(hub='ibm-q', group='open', project='main')>, <IBMQSimulator('simulator_mps') from IBMQ(hub='ibm-q', group='open', project='main')>, <IBMQSimulator('simulator_extended_stabilizer') from IBMQ(hub='ibm-q', group='open', project='main')>, <IBMQSimulator('simulator_stabilizer') from IBMQ(hub='ibm-q', group='open', project='main')>, <IBMQBackend('ibmq_manila') from IBMQ(hub='ibm-q', group='open', project='main')>]\n"
     ]
    }
   ],
   "source": [
    "### Alternatively, one can also check which machine you can use by the below command\n",
    "print(provider.backends())"
   ]
  },
  {
   "cell_type": "code",
   "execution_count": 9,
   "id": "fff2371f-750a-41fc-b355-e3e1a790c2b5",
   "metadata": {},
   "outputs": [
    {
     "data": {
      "application/vnd.jupyter.widget-view+json": {
       "model_id": "5b3a5a95e2054ecb914eab18c5027e19",
       "version_major": 2,
       "version_minor": 0
      },
      "text/plain": [
       "VBox(children=(HTML(value=\"<h1 style='color:#ffffff;background-color:#000000;padding-top: 1%;padding-bottom: 1…"
      ]
     },
     "metadata": {},
     "output_type": "display_data"
    },
    {
     "data": {
      "text/plain": [
       "<IBMQBackend('ibmq_belem') from IBMQ(hub='ibm-q', group='open', project='main')>"
      ]
     },
     "execution_count": 9,
     "metadata": {},
     "output_type": "execute_result"
    }
   ],
   "source": [
    "## If you want to use ibmq_belem, type below\n",
    "device = provider.backend.ibmq_belem \n",
    "## If you want to use ibmq_santiago, type below\n",
    "#device = provider.backend.ibmq_santiago\n",
    "\n",
    "device  # Just to look at the details of machine"
   ]
  },
  {
   "cell_type": "code",
   "execution_count": 22,
   "id": "2f2b8dcb-858f-4525-ad67-c7fa1c41e5f8",
   "metadata": {},
   "outputs": [
    {
     "name": "stdout",
     "output_type": "stream",
     "text": [
      "Job Status: job has successfully run\n"
     ]
    }
   ],
   "source": [
    "# converting set of gate operations to another ones with the aim to make the circuit\n",
    "# implementable on any machine with having different architecture\n",
    "# normally used when we have many complicated circuits \n",
    "qc_transpiled2 = transpile(qc_e, device)\n",
    "\n",
    "# If you want to select the specific machine, simply comment device = least_busy(.....) and uncomment device = provider.backend.ibmq_quito\n",
    "job2 = device.run(qc_transpiled2)\n",
    "job_monitor(job2, interval=2)"
   ]
  },
  {
   "cell_type": "code",
   "execution_count": null,
   "id": "793c5205-0afd-46ec-bd10-ed091f5409aa",
   "metadata": {},
   "outputs": [],
   "source": [
    "results = job2.result()\n",
    "answer = results.get_counts()\n",
    "plot_histogram(answer)"
   ]
  },
  {
   "cell_type": "markdown",
   "id": "46358d62-fe78-47f8-b67d-c015a642ff92",
   "metadata": {},
   "source": [
    "When running by quantum computer, 01 and 10 are present as the noise since all quantum computers are noisy and this noise will manifest itself in errors within the calculation. The way to reduce the noise is to exploit error correction technique."
   ]
  },
  {
   "cell_type": "markdown",
   "id": "0a2ef410-6235-4ef3-8876-286f20b87cca",
   "metadata": {},
   "source": [
    "(f) Show that the 2-Qubits-Correlations break down, if one Qubits is measured (evesdropped)\n",
    "after the entanglement."
   ]
  },
  {
   "cell_type": "code",
   "execution_count": 23,
   "id": "05f75c82-94b2-4eae-836d-61af1d33ed7a",
   "metadata": {},
   "outputs": [
    {
     "data": {
      "image/png": "[encoded data removed]",
      "text/plain": [
       "<Figure size 491.495x204.68 with 1 Axes>"
      ]
     },
     "execution_count": 23,
     "metadata": {},
     "output_type": "execute_result"
    }
   ],
   "source": [
    "qc_f = QuantumCircuit(QR,CR) \n",
    "\n",
    "# Apply H-gate to the first:\n",
    "qc_f.h(0)\n",
    "\n",
    "# Apply CNOT\n",
    "qc_f.cx(0,1)\n",
    "qc_f.measure(0, 0)  # Hey I am Eve. I am here after the entanglement :P\n",
    "qc_f.ry(np.pi/3, QR)\n",
    "\n",
    "qc_f.measure(0, 0)\n",
    "qc_f.measure(1, 1)\n",
    "qc_f.draw(initial_state=True)"
   ]
  },
  {
   "cell_type": "code",
   "execution_count": 24,
   "id": "025ef0ca-7612-4d93-80fd-168964aa3215",
   "metadata": {},
   "outputs": [
    {
     "name": "stdout",
     "output_type": "stream",
     "text": [
      "Job Status: job has successfully run\n",
      "{'01': 175, '10': 188, '00': 317, '11': 320}\n"
     ]
    },
    {
     "data": {
      "image/png": "[encoded data removed]",
      "text/plain": [
       "<Figure size 504x360 with 1 Axes>"
      ]
     },
     "execution_count": 24,
     "metadata": {},
     "output_type": "execute_result"
    }
   ],
   "source": [
    "simulator = Aer.get_backend('aer_simulator')\n",
    "job = execute(qc_f, simulator, shots=1000)\n",
    "job_monitor(job)  # display the job's status\n",
    "result = job.result()\n",
    "counts = result.get_counts() \n",
    "print(counts)\n",
    "plot_histogram(counts)"
   ]
  },
  {
   "cell_type": "markdown",
   "id": "21722c0b-eee8-4bd7-a5e3-efc12e453192",
   "metadata": {},
   "source": [
    "As seen, 01 and 10 are obviously present, so those 2 qubits are not correlated anymore."
   ]
  },
  {
   "cell_type": "code",
   "execution_count": 10,
   "id": "b2fcd7b6-1ee4-42a9-a032-6ba7d7a4f168",
   "metadata": {},
   "outputs": [
    {
     "data": {
      "text/html": [
       "<h3>Version Information</h3><table><tr><th>Qiskit Software</th><th>Version</th></tr><tr><td><code>qiskit-terra</code></td><td>0.20.2</td></tr><tr><td><code>qiskit-aer</code></td><td>0.10.4</td></tr><tr><td><code>qiskit-ignis</code></td><td>0.7.1</td></tr><tr><td><code>qiskit-ibmq-provider</code></td><td>0.19.1</td></tr><tr><td><code>qiskit</code></td><td>0.36.2</td></tr><tr><td><code>qiskit-nature</code></td><td>0.4.1</td></tr><tr><td><code>qiskit-finance</code></td><td>0.3.2</td></tr><tr><td><code>qiskit-optimization</code></td><td>0.3.2</td></tr><tr><td><code>qiskit-machine-learning</code></td><td>0.4.0</td></tr><tr><th>System information</th></tr><tr><td>Python version</td><td>3.8.13</td></tr><tr><td>Python compiler</td><td>GCC 10.3.0</td></tr><tr><td>Python build</td><td>default, Mar 25 2022 06:04:10</td></tr><tr><td>OS</td><td>Linux</td></tr><tr><td>CPUs</td><td>8</td></tr><tr><td>Memory (Gb)</td><td>31.211315155029297</td></tr><tr><td colspan='2'>Fri Jul 01 00:47:44 2022 UTC</td></tr></table>"
      ],
      "text/plain": [
       "<IPython.core.display.HTML object>"
      ]
     },
     "metadata": {},
     "output_type": "display_data"
    }
   ],
   "source": [
    "import qiskit.tools.jupyter\n",
    "%qiskit_version_table"
   ]
  },
  {
   "cell_type": "markdown",
   "id": "437ac53e-b59c-41c9-b6f5-22c8730e9145",
   "metadata": {},
   "source": [
    "Copyright 2022 Anastasiia Andriievska\n",
    "\n",
    "Licensed under the Apache License, Version 2.0 (the \"License\");\n",
    "you may not use this file except in compliance with the License.\n",
    "You may obtain a copy of the License at\n",
    "\n",
    "   http://www.apache.org/licenses/LICENSE-2.0\n",
    "\n",
    "Unless required by applicable law or agreed to in writing, software\n",
    "distributed under the License is distributed on an \"AS IS\" BASIS,\n",
    "WITHOUT WARRANTIES OR CONDITIONS OF ANY KIND, either express or implied.\n",
    "See the License for the specific language governing permissions and\n",
    "limitations under the License"
   ]
  }
 ],
 "metadata": {
  "kernelspec": {
   "display_name": "Python 3 (ipykernel)",
   "language": "python",
   "name": "python3"
  },
  "language_info": {
   "codemirror_mode": {
    "name": "ipython",
    "version": 3
   },
   "file_extension": ".py",
   "mimetype": "text/x-python",
   "name": "python",
   "nbconvert_exporter": "python",
   "pygments_lexer": "ipython3",
   "version": "3.8.13"
  },
  "widgets": {
   "application/vnd.jupyter.widget-state+json": {
    "state": {},
    "version_major": 2,
    "version_minor": 0
   }
  }
 },
 "nbformat": 4,
 "nbformat_minor": 5
}
